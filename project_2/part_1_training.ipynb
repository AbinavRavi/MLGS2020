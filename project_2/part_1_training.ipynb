{
 "cells": [
  {
   "cell_type": "code",
   "execution_count": 28,
   "metadata": {},
   "outputs": [
    {
     "name": "stdout",
     "output_type": "stream",
     "text": [
      "The autoreload extension is already loaded. To reload it, use:\n",
      "  %reload_ext autoreload\n"
     ]
    }
   ],
   "source": [
    "%load_ext autoreload\n",
    "%autoreload 2\n",
    "import torch\n",
    "from torch.utils.data import DataLoader\n",
    "from torch.optim import Adam\n",
    "from matplotlib import pyplot as plt\n",
    "from utils import get_mnist_data\n",
    "from models import ConvNN\n",
    "from training_and_evaluation import train_model, predict_model\n",
    "from attacks import fast_gradient_attack\n",
    "from torch.nn.functional import cross_entropy\n",
    "import os\n",
    "if not os.path.isdir(\"models\"):\n",
    "    os.mkdir(\"models\")"
   ]
  },
  {
   "cell_type": "markdown",
   "metadata": {},
   "source": [
    "# Project 2, part 1: Creating adversarial examples (50 pt)\n",
    "In this notebook we train a basic convolutional neural network on MNIST and craft adversarial examples via gradient descent.\n",
    "\n",
    "## Your task\n",
    "Complete the missing code in the respective files, i.e. `training_and_evaluation.py`, `attacks.py`, and this notebook. Make sure that all the functions follow the provided specification, i.e. the output of the function exactly matches the description in the docstring. \n",
    "\n",
    "Specifically, for this part you will have to implement the following functions / classes:  \n",
    "**`training_and_evaluation.py`**:\n",
    "* `train_model` (15pt)\n",
    "* `predict_model` (10pt)\n",
    "\n",
    "**`attacks.py`**:\n",
    "* `fast_gradient_attack` (15pt)\n",
    "\n",
    "**This notebook**\n",
    "* Cells in the Qualitative Evaluation section. (10pt)\n",
    "\n",
    "## General remarks\n",
    "Do not add or modify any code outside of the following comment blocks, or where otherwise explicitly stated.\n",
    "\n",
    "``` python\n",
    "##########################################################\n",
    "# YOUR CODE HERE\n",
    "...\n",
    "##########################################################\n",
    "```\n",
    "After you fill in all the missing code, restart the kernel and re-run all the cells in the notebook.\n",
    "\n",
    "The following things are **NOT** allowed:\n",
    "- Using additional `import` statements\n",
    "- Copying / reusing code from other sources (e.g. code by other students)\n",
    "\n",
    "If you plagiarise even for a single project task, you won't be eligible for the bonus this semester."
   ]
  },
  {
   "cell_type": "code",
   "execution_count": 29,
   "metadata": {},
   "outputs": [],
   "source": [
    "mnist_trainset = get_mnist_data(train=True)\n",
    "mnist_testset = get_mnist_data(train=False)\n",
    "\n",
    "#use_cuda = torch.cuda.is_available() #and False\n",
    "use_cuda = False\n",
    "\n",
    "model = ConvNN()\n",
    "if use_cuda:\n",
    "    model = model.cuda()\n",
    "\n",
    "epochs = 1\n",
    "batch_size = 128\n",
    "test_batch_size = 1000  # feel free to change this\n",
    "lr = 1e-3\n",
    "\n",
    "opt = Adam(model.parameters(), lr=lr)"
   ]
  },
  {
   "cell_type": "code",
   "execution_count": 30,
   "metadata": {},
   "outputs": [],
   "source": [
    "def loss_function(x, y, model):\n",
    "    logits = model(x).cpu()\n",
    "    loss = cross_entropy(logits, y)\n",
    "    return loss, logits"
   ]
  },
  {
   "cell_type": "markdown",
   "metadata": {},
   "source": [
    "Implement the `train_model` function in the file `training_and_evaluation.py`."
   ]
  },
  {
   "cell_type": "code",
   "execution_count": 31,
   "metadata": {},
   "outputs": [
    {
     "data": {
      "application/vnd.jupyter.widget-view+json": {
       "model_id": "9333d5df7a134c729bee04403334fca2",
       "version_major": 2,
       "version_minor": 0
      },
      "text/plain": [
       "HBox(children=(FloatProgress(value=0.0, max=469.0), HTML(value='')))"
      ]
     },
     "metadata": {},
     "output_type": "display_data"
    },
    {
     "name": "stdout",
     "output_type": "stream",
     "text": [
      "\n"
     ]
    }
   ],
   "source": [
    "losses, accuracies = train_model(model, mnist_trainset, batch_size=batch_size, loss_function=loss_function, optimizer=opt)"
   ]
  },
  {
   "cell_type": "code",
   "execution_count": 32,
   "metadata": {},
   "outputs": [],
   "source": [
    "torch.save(model.state_dict(), \"models/standard_training.checkpoint\")"
   ]
  },
  {
   "cell_type": "code",
   "execution_count": 33,
   "metadata": {},
   "outputs": [
    {
     "data": {
      "text/plain": [
       "<All keys matched successfully>"
      ]
     },
     "execution_count": 33,
     "metadata": {},
     "output_type": "execute_result"
    }
   ],
   "source": [
    "model.load_state_dict(torch.load(\"models/standard_training.checkpoint\", map_location=\"cpu\"))"
   ]
  },
  {
   "cell_type": "code",
   "execution_count": 34,
   "metadata": {},
   "outputs": [
    {
     "data": {
      "image/png": "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\n",
      "text/plain": [
       "<Figure size 720x216 with 2 Axes>"
      ]
     },
     "metadata": {
      "needs_background": "light"
     },
     "output_type": "display_data"
    }
   ],
   "source": [
    "fig = plt.figure(figsize=(10,3))\n",
    "plt.subplot(121)\n",
    "plt.plot(losses)\n",
    "plt.xlabel(\"Iteration\")\n",
    "plt.ylabel(\"Training Loss\")\n",
    "plt.subplot(122)\n",
    "plt.plot(accuracies)\n",
    "plt.xlabel(\"Iteration\")\n",
    "plt.ylabel(\"Training Accuracy\")\n",
    "plt.show()"
   ]
  },
  {
   "cell_type": "markdown",
   "metadata": {},
   "source": [
    "Implement the `predict_model` function in the file `training_and_evaluation.py`."
   ]
  },
  {
   "cell_type": "code",
   "execution_count": 35,
   "metadata": {},
   "outputs": [
    {
     "data": {
      "application/vnd.jupyter.widget-view+json": {
       "model_id": "49a29853cd7f471ba5b6a7f3e91ae4a7",
       "version_major": 2,
       "version_minor": 0
      },
      "text/plain": [
       "HBox(children=(FloatProgress(value=0.0, max=10.0), HTML(value='')))"
      ]
     },
     "metadata": {},
     "output_type": "display_data"
    },
    {
     "name": "stdout",
     "output_type": "stream",
     "text": [
      "\n"
     ]
    }
   ],
   "source": [
    "clean_accuracy = predict_model(model, mnist_testset, batch_size=test_batch_size, attack_function=None)"
   ]
  },
  {
   "cell_type": "markdown",
   "metadata": {},
   "source": [
    "### Creating adversarial examples\n",
    "#### $L_2$-bounded attacks\n",
    "Fist, craft adversarial perturbations that have a $L_2$ norm of $ \\| \\tilde{\\mathbf{x}} - \\mathbf{x} \\|_2 = \\epsilon$ with $\\epsilon=5$.\n",
    "\n",
    "#### $L_\\infty$-bounded attacks\n",
    "Afterwards, craft adversarial perturbations with $L_\\infty$ norm of $ \\| \\tilde{\\mathbf{x}} - \\mathbf{x} \\|_\\infty = \\epsilon$ with $\\epsilon=0.3$.\n",
    "\n",
    "For this you need to implement `predict_model` in the file `training_and_evaluation.py` and `fast_gradient_attack` in `attacks.py`. See the docstring comments there."
   ]
  },
  {
   "cell_type": "code",
   "execution_count": 36,
   "metadata": {},
   "outputs": [],
   "source": [
    "attack_args_l2 = {\"epsilon\": 5, \"norm\": \"2\"}\n",
    "attack_args_linf = {\"epsilon\": 0.3, \"norm\": \"inf\"}"
   ]
  },
  {
   "cell_type": "markdown",
   "metadata": {},
   "source": [
    "### Qualitative evaluation\n",
    "\n",
    "First, craft adversarial examples for 10 randomly selected test samples and inspect them by plotting them."
   ]
  },
  {
   "cell_type": "markdown",
   "metadata": {},
   "source": [
    "$L_2$ attack:"
   ]
  },
  {
   "cell_type": "code",
   "execution_count": 37,
   "metadata": {},
   "outputs": [],
   "source": [
    "test_loader = DataLoader(mnist_testset, batch_size = 10, shuffle=True)\n",
    "x,y = next(iter(test_loader))\n",
    "##########################################################\n",
    "# YOUR CODE HERE\n",
<<<<<<< HEAD
    "x, y = x.cpu(), y.cpu()\n",
    "x.requires_grad = True\n",
    "logits = model(x).cpu()\n",
    "x_pert_l2 = fast_gradient_attack(logits, x, y, attack_args_l2['epsilon'], attack_args_l2['norm'])\n",
    "y_pert_l2 = torch.argmax(model(x_pert_l2).cpu(),dim=1)\n",
=======
    "x.requires_grad_(True)\n",
    "output = model(x)\n",
    "x_pert_l2_norm = fast_gradient_attack(output, x, y, **attack_args_l2)\n",
    "output_pert_l2 = model(x_pert_l2_norm)\n",
    "y_pert_l2_norm = torch.argmax(output_pert_l2_norm, dim=1)\n",
    "...\n",
>>>>>>> ec76c6325db977fdb7949f27899871141d5d23d4
    "##########################################################"
   ]
  },
  {
   "cell_type": "markdown",
   "metadata": {},
   "source": [
    "$L_\\infty$ attack:"
   ]
  },
  {
   "cell_type": "code",
   "execution_count": 38,
   "metadata": {},
   "outputs": [],
   "source": [
    "##########################################################\n",
    "# YOUR CODE HERE\n",
<<<<<<< HEAD
    "x, y = x.cpu(), y.cpu()\n",
    "x.requires_grad = True\n",
    "logits = model(x).cpu()\n",
    "x_pert_linf = fast_gradient_attack(logits, x, y, attack_args_linf['epsilon'], attack_args_linf['norm'])\n",
    "y_pert_linf = torch.argmax(model(x_pert_l2).cpu(), dim=1)\n",
=======
    "x.requires_grad_(True)\n",
    "output = model(x)\n",
    "x_pert_l_inf = fast_gradient_attack(output, x, y, **attack_args_linf)\n",
    "output_pert_l_inf = model(x_pert_linf)\n",
    "y_pert_linf = torch.argmax(output_pert_l_inf ,dim=1)\n",
    "...\n",
>>>>>>> ec76c6325db977fdb7949f27899871141d5d23d4
    "##########################################################"
   ]
  },
  {
   "cell_type": "markdown",
   "metadata": {},
   "source": [
    "Visualize the adversarial examples and the model's prediction on them:"
   ]
  },
  {
   "cell_type": "code",
   "execution_count": 39,
   "metadata": {},
   "outputs": [
    {
     "data": {
      "image/png": "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\n",
      "text/plain": [
       "<Figure size 432x288 with 3 Axes>"
      ]
     },
     "metadata": {
      "needs_background": "light"
     },
     "output_type": "display_data"
    },
    {
     "data": {
      "image/png": "iVBORw0KGgoAAAANSUhEUgAAAXAAAACRCAYAAADaduOsAAAABHNCSVQICAgIfAhkiAAAAAlwSFlzAAALEgAACxIB0t1+/AAAADh0RVh0U29mdHdhcmUAbWF0cGxvdGxpYiB2ZXJzaW9uMy4yLjEsIGh0dHA6Ly9tYXRwbG90bGliLm9yZy+j8jraAAAVL0lEQVR4nO3dfbQV1X3G8e8DaBMFeYloEAGjou2tMUIUX9CGYBLxFbGrjREtrsQKWdbE1fgGbTS2uhY2NemqWFON1tcmxoqCaHRFxKVRNDHVxggLwYoBBIwNKuRlRWD3jzMeZ4Z7hnPPnfMyc5/PWnfdvc/Mmb3v+Z2z75zf7JlRCAEzMyuefu3ugJmZNcYDuJlZQXkANzMrKA/gZmYF5QHczKygPICbmRWUB/AYSU9IOq/Vz7X8SbpN0tVR+ThJK1rUbpB0YCva6qsc2w+UcgCXtFrSZ9rdj1oknSlphaR3JL0p6XZJe7S7X60Wxel3krZI2hh9MAfm3U4I4akQwsF19OdcST/Ou/2M9v5J0hpJ70p6XdKcVrXdbI5ta2JbygG8AJ4GJoYQBgP7AwOAq9vbpbY5NYQwEBgPHA78fXoFSQNa3qvWuAX44xDCHsAxwHRJZ7S5T3lybJsc2z41gEsaKmmRpF9J2hSV902tdoCkn0T/ORdIGhZ7/lGSnpH0tqT/kTSpkX6EENaEEN6KPbQN6KivZq0WQlgH/BA4BKpfVy+QtBJYGT12iqQXo9f/GUmHvv98SeMk/bekzZLuAT4UWzZJ0tpYfZSk+dH74P8kzZP0J8B3gKOjvca3o3X/SNI/S/pltCf5HUkfjm3rEknrJb0h6Ys9/JtXhBB+E3toOyV8Hzi2QJNi26cGcCp/738AY4DRwO+Aeal1/gr4IjAC2Ar8K4CkkcBDVPaUhwEXA/dJGp5uRNLo6I04ulZHJB0r6R1gM/DnwL/07k8rNkmjgJOAF2IPnw4cCXRJGgfcCswEPgL8O7Aw+hDuCjwA3EklNvdSeU27a6c/sAh4HdgPGAl8P4SwHJgFLA0hDAwhDImeMhc4CDiMygdwJHBFtK0pVN4HnwXGAom0naSzJP18J3/35ZK2AGuB3YH/zFq/iBzbJsY2hFC6H2A18Jk61jsM2BSrPwHMjdW7gD8A/YHLgDtTz38UmBF77nkN9HUk8A3goHa/bm2K0xbgbSofun8DPhwtC8Dk2Lo3Av+Yev4K4FPAnwFvAIotewa4OipPAtZG5aOBXwEDuunPucCPY3UBvwEOiD12NPBaVL419X45KOr3gT18HQSMA64CBrU7Lo5tcWJb1vxTtyTtBnwbmAIMjR4eJKl/CGFbVF8Te8rrwC7AnlT22v9C0qmx5bsAS3rTpxDCOkmPAN+nkivsa04PITxWY1k8FmOAGZIujD22K7APlQ/WuhB9YiKv19jmKOD1EMLWOvo2HNgN+Jmk9x8TlX/oRG3/rI42M0X9fkHSCVQ+6H/byHY6kGPb5Nj2qQEc+BpwMHBkCGGDpMOofK1TbJ1RsfJo4D3gLSpvuDtDCH/dhH4NAA5ownaLLv6hXQNcE0K4Jr2SpE8BIyUp9kEfDbzazTbXAKMlDejmg56+NOdbVNJsfxoqedy09ez4fumNvvQ+cGxzUOYc+C6SPhT7GQAMohK0t6ODk1d287yzJXVFe+v/APxXtHd+F3CqpBMk9Y+2OUk7HgTdKUnT38+PSxoDXAMsbvDv7CtuBmZJOlIVu0s6WdIgYCmV4xVfkbSLKkf7J9TYzk+ofDjnRtv4kKSJ0bKNwL5R3pUQwvao3W9L2gsqx0KivSmAHwDnxt4v3b2fuiWpn6SZqhxYl6QJwAX0zfeBY9ugMg/gD1MZrN//+QaVA4UfpvLf91ngkW6edydwG7CBytHur0Bl5ggwFZhDJc+2BriEbl7D6CDmloyDmF3AM5J+Q2VK4QqgGXv2pRFCeJ7KazQP2ASsopLXJITwB+CMqP5r4PPA/Brb2QacSuWg1S+pHGD6fLT4ceBlYIOk92cJXRa19aykd4HHqHyLI4TwQyrvqcejdR6PtxX9o34548+aRmVPcjOVHYTro58+xbFtnJKpJTMzK4oy74GbmZWaB3Azs4LyAG5mVlC9GsAlTVHlokyrJF2eV6esvRzX8nJsy6Xhg5jRaauvUDnVdC3wU+ALIYRlGc/xEdMOEUJQd4/nEdd+/fzFrh22b99eM67Q89im4zp48OAce2s98c4777wVQtjhsh29OZFnArAqhPC/AJK+T2WaXc0PuhVCr+M6cGDuVw21OmzZsmVnq/Qqtscdd1yv+meNW7RoUbdngvZmV2kkydNh10aPJUg6X9Lzkp7vRVvWOo5ree00to5rsTT9VPoQwk3ATeAUSpk4ruXkuBZLbwbwdSSvFbBv9JgVW65xfffddxP1PfaofeOh+LpZ6+XVl7w0o69NkltsFy1alKifcsopda2btV6j0n3JSzP6mrfepFB+CoyV9LHo+gJnAgvz6Za1keNaXo5tyTS8Bx5C2Crpb6hcE7s/cGsIIevaAFYAjmt5Obbl06sceAjhYSoXjbISaWZcm5HGaFZqJO/2OyHV0qzYNiON0azUSN7ttzPV4gm7ZmYF5QHczKygPICbmRVUX7ulmjVBv379Gjr7Mp0TzsolZ00xjNdbMVWw0Taa0bdm5tUHDx7c0NmX6ZxwVi45a4phvN6KqYKNttGMvtWbV/ceuJlZQXkANzMrqJbeUs2n5naOrKvW9VRWXHuSJumEaXa9lXXmaSumO7Yqrj1JkxThjMadyTrztEXTHX8WQjg8/aD3wM3MCsoDuJlZQXkANzMrqELmwPfZZ59qefjwHW5SUdP06dOr5fS0t49//OPV8sSJExPLpA/SiunXa+HC5LWAbrzxxmr50UcfrbtvrZZnrrR///4h/no2mueOx3XPPfesu/2zzz67Wh40aFBi2ZAhQ6rl3sT1wQcfrJaz4tru0/rzjOuQIUNCfBpho3nuRj+v8bimP6/XX399tXzssccmlmXFdcGCBYn6YYcdVi1nxbXdp/XjHLiZWbl4ADczK6hCpFAOOOCARP3xxx+vlvfdd9/edSpny5Z9cHvBKVOmJJatW9c597to5nSzeqcD7rrrron6qlWrquVWvi/rsXnz5mr5c5/7XGLZG2+8US2XKYWSjmu90wHT6YZ4LNOpqXY77bTTquVZs2YllsU/r06hmJlZrjyAm5kVlAdwM7OCKsTVCA899NBEfeTIkU1tL56LTUvnbUePHp2od3V1Vcvnn39+YtmVV16ZQ++KJSsn/OlPfzpR3759e7UcnwoGyemAaW+//XbNZfHnbdy4seZ66bgOHTq05nZmzpyZWNbquLb69PzuZOWEBwxIDivxqXvpuMZz0GlZ+fKs5zUqHdcrrrgi9zayNHJ6vvfAzcwKygO4mVlBFWIaYdrs2bOr5XHjxtVcL31m1erVq2uuG//6vmTJkprrxVMkAC+99FLNddNfAadNm1Zz3VZr1VXremLu3LnVclZcb7755kR927ZtNdeNv7/j008hmX446qijEsuWLl1ac5vp98fkyZNrrttqnRjX+GsZP/MxbcyYMYn6nDlzaq4bj+vixYsTy+Lph0svvTSx7Nprr625zfT7KJ0KajNPIzQzKxMP4GZmBeUB3MysoAqZA28n58B3VIa4pqemrl27tua6zoEXV9Z45xy4mZm1zE4HcEm3SnpT0i9ijw2T9CNJK6PfQ7O2YZ3HcS0vx7bvqOc7wm3APOCO2GOXA4tDCHMlXR7VL8u/e50nfXZlgd2G41p19dVXt7sLeboNxxaAV199td1daKqd7oGHEJ4Efp16eCpwe1S+HTg9535Zkzmu5eXY9h2NZun3DiGsj8obgL1rrSjpfKA0u60l57iWV12xdVyLpdeHWUMIIetodQjhJuAmKOdR7bJyXMsrK7aOa7E0OoBvlDQihLBe0gjgzTw71W7p6UOHH/7B7J0LLrig7u28+OKLufWpRUod12HDhiXqRxxxRLV87rnn1r2dF154Ia8utVJpY3v66cls0IQJE6rl/fffv+7tFPDz2vA0woXAjKg8A1iQsa4Vh+NaXo5tCdUzjfB7wFLgYElrJX0JmAt8VtJK4DNR3QrEcS0vx7bv2GkKJYTwhRqLjs+5Lx3jpJNOStTvv//+hrbz3HPP5dGdpihTXOu9iXI6rnfeeWfdbcRvGnHvvffW/bx2KEts672J8sknn5yon3feeXW3ET9beurUqXU/r1P4TEwzs4LyAG5mVlAewM3MCspXI4yMHz++Wn7ssccSywYPHtzQNp966qlE/dRTT62WN2/e3NA281Lkq9alc97xO+uklw0fPrxafuWVV2o+Ly3rJsoPPvhgop51g91m3IA4a5tFjms65x2/s07WsvQY1ujNkC+++OJE/brrrqurr/XegHhndrJNX43QzKxMPICbmRWUUyiRM888s1q+++67m9LGs88+Wy2nvxJu2rSpKW3WUuSv2lkplLQTTzyxWn744YcbbjM+jTAtfvOHT3ziE4llAwcOrPm8vFIqcUWOa1aaJG333Xevlrds2dJwm/WmW6Tky5o1xTGvlEqKUyhmZmXiAdzMrKA8gJuZFZRz4JF+/T74X3bCCScklp1xxhk1n5e+2tmkSZPqau/JJ59M1OOn8TYjN5pW5Fxpo4455phE/aKLLqq5bjqun/zkJ2uuG8+Pv/baa4ll8TxqOq5ZcW50+mFfjGvahg0bai7be++al7jfQTw/np5+eNZZZ1XL6SnBWTnwXkw/dA7czKxMPICbmRWUB3Azs4JyDryX4rlzSObP77nnnsSy+NzVtCOPPLJafv7553PqXW3OlfZMPH/+9NNP1/28gw8+uFrOys3mddzDcW1cT8bC+LzwFs0Jdw7czKxMPICbmRWUUyhNNGvWrET9hhtuqLlufMrStGnTmtan93XCV+2enBLfSS699NJE/dprr6257pIlS6rlyZMn191G1jTCTr8aYU9Oie8kDz30UKKevoNT3LZt26rl9E3Qs2RNI/TVCM3M+hAP4GZmBeUB3MysoJwDb6IDDzwwUY9PDxw0aFBi2W9/+9uay5qhE3KlRbXXXnsl6hs3bqzreelLkmbxqfTtV+/Y2JO4+lR6MzMDPICbmRVW/fNfrMfSdwrZunVrm3pSPOkphnnIa5pi+upz8bj2ZEpZlqJMqeyprLMWG1WUaYqQf1+9B25mVlA7HcAljZK0RNIySS9L+mr0+DBJP5K0Mvo9tPndtbw4ruXkuPYt9eyBbwW+FkLoAo4CLpDUBVwOLA4hjAUWR3UrDse1nBzXPmSnCbsQwnpgfVTeLGk5MBKYCkyKVrsdeAK4rCm97IH+/ftXy7Nnz04sGzduXLU8ffr0xLLf//73ubT/0Y9+tFr+5je/mVg2dGjtnZ477rgjl/br1Ylxzcp7Z8V1/Pjx1XL8TimQjGtv8urxuF533XWJZVl577vuuqvhNhvRiXHNynvH4zpnzpzEsvjnNSuuvcmrZ8U1y5o1axpuM089OuIiaT9gHPAcsHf0ZgHYAHR7ryJJ5wPnN95FazbHtZwc1/Kr+yCmpIHAfcBFIYTEIfJQmfHe7az3EMJNIYTDu5uEbu3nuJaT49o31LUHLmkXKm+Gu0MI86OHN0oaEUJYL2kE8GazOtkT8a9EV111Vc31nnjiiUQ96yvR/Pnzq+X0lQLTZ2Edcsgh1fJBBx2U2de4BQsW1L1uXtod16yrEaaXvffee9XyJZdcklgWv6lwT1IW9913X7WcvnH12rVrE/V4XCdMmFB3G/Pmzat73by0O65ZVyNML4u/7x944IHEsvgVOuM3xgD4+te/XrP9rM/rzJkzE/X4dnuSYhs9enTd6zZTPbNQBNwCLA8hfCu2aCEwIyrPAFo/AlnDHNdyclz7lnr2wCcC5wAvSXoxemwOMBf4gaQvAa8Df9mcLlqTOK7l5Lj2IfXMQvkxUOtqLcfn2x1rFce1nBzXvqV0VyMcPHhwtbx06dLEsnQerZ3id2oBOPHEE6vleL63WTrhqnWN3pFn3bp1ifpuu+3WSPM9MmTIkLrWS9+Q+ogjjmhGd2rqhLg2ekee9FgUz4E3y2mnndbQ83pyBcKc+GqEZmZl4gHczKygSpdCiRs5cmSi/sgjj1TLXV1dTW9/06ZNifott9xSLV92WXtPWu2Er9qNGjhwYKK+bNmyannUqFF1byc+/TAtK2WSvqrkd7/73Wr5y1/+ct3tZ/ENHeq/oUJaVuqlJymT5cuXV8t5jRe+oYOZmQEewM3MCssDuJlZQZX6jjzp6WbHH//BNNhzzjknsWzq1KnV8sSJE+tuY9WqVYl6/HTgG2+8MbFs9erVdW/Xakvf6Wjs2LHVcjquF154YbV86KGHJpZl5bnTNyq+//77q+X0VfPSxzosH/GpeunLUqxYsaLm89qd524l74GbmRWUB3Azs4Iq9TRCq61M083KoNGzUtMc187S6Fmp3fA0QjOzMvEAbmZWUB7AzcwKqtTTCM1aodHT3ntzk2VrvkZPe+/NTZZ7ynvgZmYF5QHczKygnEIx60ZP0htZaZOs7TQ6VbDRlI31LL2RlTbJ2k6jUwUbSdl4D9zMrKA8gJuZFZQHcDOzgmr1qfS/Al4H9gTealnD2fpiX8aEEIbntTHHdacc1/z01b50G9uWDuDVRqXnuzuvvx3cl/x0Uv/dl/x0Uv/dlySnUMzMCsoDuJlZQbVrAL+pTe12x33JTyf1333JTyf1332JaUsO3MzMes8pFDOzgvIAbmZWUC0dwCVNkbRC0ipJl7ey7aj9WyW9KekXsceGSfqRpJXR76Et6McoSUskLZP0sqSvtqsveXBcE30pTWwd10RfOjKuLRvAJfUHbgBOBLqAL0jqalX7kduAKanHLgcWhxDGAoujerNtBb4WQugCjgIuiF6LdvSlVxzXHZQito7rDjozriGElvwARwOPxuqzgdmtaj/W7n7AL2L1FcCIqDwCWNGGPi0APtsJfXFcHVvHtThxbWUKZSSwJlZfGz3WbnuHENZH5Q3A3q1sXNJ+wDjguXb3pUGOaw0Fj63jWkMnxdUHMWNC5d9oy+ZVShoI3AdcFEJIXNi51X0ps3a8lo5t8zmurR3A1wGjYvV9o8fabaOkEQDR7zdb0aikXai8Ee4OIcxvZ196yXFNKUlsHdeUToxrKwfwnwJjJX1M0q7AmcDCFrZfy0JgRlSeQSW31VSSBNwCLA8hfKudfcmB4xpTotg6rjEdG9cWJ/5PAl4BXgX+rg0HHr4HrAfeo5LT+xLwESpHj1cCjwHDWtCPY6l81fo58GL0c1I7+uK4OraOa3Hj6lPpzcwKygcxzcwKygO4mVlBeQA3MysoD+BmZgXlAdzMrKA8gJuZFZQHcDOzgvp//+MfgjWBHToAAAAASUVORK5CYII=\n",
      "text/plain": [
       "<Figure size 432x288 with 3 Axes>"
      ]
     },
     "metadata": {
      "needs_background": "light"
     },
     "output_type": "display_data"
    },
    {
     "data": {
      "image/png": "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\n",
      "text/plain": [
       "<Figure size 432x288 with 3 Axes>"
      ]
     },
     "metadata": {
      "needs_background": "light"
     },
     "output_type": "display_data"
    },
    {
     "data": {
      "image/png": "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\n",
      "text/plain": [
       "<Figure size 432x288 with 3 Axes>"
      ]
     },
     "metadata": {
      "needs_background": "light"
     },
     "output_type": "display_data"
    },
    {
     "data": {
      "image/png": "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\n",
      "text/plain": [
       "<Figure size 432x288 with 3 Axes>"
      ]
     },
     "metadata": {
      "needs_background": "light"
     },
     "output_type": "display_data"
    },
    {
     "data": {
      "image/png": "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\n",
      "text/plain": [
       "<Figure size 432x288 with 3 Axes>"
      ]
     },
     "metadata": {
      "needs_background": "light"
     },
     "output_type": "display_data"
    },
    {
     "data": {
      "image/png": "iVBORw0KGgoAAAANSUhEUgAAAXAAAACRCAYAAADaduOsAAAABHNCSVQICAgIfAhkiAAAAAlwSFlzAAALEgAACxIB0t1+/AAAADh0RVh0U29mdHdhcmUAbWF0cGxvdGxpYiB2ZXJzaW9uMy4yLjEsIGh0dHA6Ly9tYXRwbG90bGliLm9yZy+j8jraAAAYZElEQVR4nO2debBU1Z3HPz8RRo3KokgIgjARE9G4TDkuMc7gCJFxiZFUolFZEh3GuMRMOZboWHFcJnF0Ks7gMi6J4lYmcX9BERFMBUtNkHGPQVAhgCwSA/oMiSJn/ujL5dzD6/tu315vv++n6tX7nf7de87p/nafvv27v3OOOecQQghRPLZpdgeEEELkQwO4EEIUFA3gQghRUDSACyFEQdEALoQQBUUDuBBCFBQN4B5m9kszO6PR54raY2bTzezKyD7CzBY2qF1nZns2oq2eiHRN0pYDuJktMbMxze5HOazElWa2wszWR4P/Ps3uV6OJdNpgZp1mtjr6cO5Y63acc/Occ5/L0J/JZvZ0rdtPaW+Amf3MzP5gZmvN7B4z27lR7dcL6do4XdtyAC8AXwe+DRwBDACeBe5qao+ax/HOuR2BvwEOAi4JDzCzbRveq8ZwJdAfGAF8FhgE/HszO1RDpGsDdO1RA7iZ9TezGWb2rpn9MbJ3Dw77rJn9xszeN7NHzGyAd/6hZvaMma0zs5fMbHTOrowAnnbOveWc+wS4GxiVs662wDm3ApgJ7AvxT9azzWwRsCh67DgzezF6/Z8xs/02n29mB5rZ/5nZB2b2M2A7zzfazJZ75aFm9mD0PviDmV1vZnsDNwGHRVeO66Jj/8rM/svMfh9dTd5kZtt7dV1gZivN7B0z+3aFT3sE8LBz7n3n3HrgIaCtfolJ1/rq2qMGcErP93ZgD2AYsAG4PjhmIqWr48HARmAagJkNAR6l9O06APhX4AEzGxg2YmbDojfjsDL9+CmlL4q9zKw3MAl4vMrnVmjMbChwDPCC9/BXgUOAUWZ2IHAb8M/ALsDNQEf0QewDPEzpV8wA4D7ga2Xa6QXMAJYCw4EhwE+dc68DZwLPOud2dM71i065CtgLOADYMzr++1Fd4yi9D8YCI4FE2M7MTjGzl1Oe9g3AcdGFRf+ozzNTji8c0rXOujrn2u4PWAKMyXDcAcAfvfIvgau88ijgI6AXcCFwV3D+LGCSd+4ZGfvXB/gfwFH6kngbGNHs161JOnUC6yh98G4Eto98DvgH79j/Ba4Izl8I/D3wd8A7gHm+Z4ArI3s0sDyyDwPeBbbtoj+TKf0y2lw24EPgs95jhwFvR/Ztwftlr6jfe2Z8/p8BngQ2RX+zgT7N1kW6FkfXHnUFbmY7mNnNZrbUzN4HfgX0i769N7PMs5cCvYFdKV21fz26sl4X/RT7EqUr9Ur5PvC3wFBKPwkvA+aa2Q456io6X3XO9XPO7eGcO8s5t8Hz+VrsAZwfvP5DKX1YPgOscNGnJ2JpmfaGAkudcxsz9G0gsAOwwGvz8ehxonbD90sl/Bx4A9gJ2Bl4k1I4rR2Qrg3QtUcN4MD5wOeAQ5xzO1P6hofSN/Jmhnr2MOBjYC0lQe+K3pSb/z7lnLsqRz8OAH7mnFvunNvonJtO6aZHj46Dd4H/wV0G/Efw+u/gnLsXWAkMMTNfx3Lhq2XAMOv6Blq4NOdaSmG2fbw2+7rSzTmidsP3SyUcANzsnPvQOddJKVZ7TIV1FBHpWiPaeQDvbWbbeX/bUvpG3ACsi25OXtrFeaeZ2ajoavhy4H635Ubj8WZ2tJn1iuocbVvfBM3CfEpX84PMbBszm0DpSn9xrmfaM7gVONPMDrESnzKzY81sJ0pZPBuB75pZbzMbDxxcpp7fUPqAXhXVsZ2ZHR75VgO7R7FXnHObonavNbPdoHQvxMyOjo7/OTDZe7909X5KYz5whpltH91AmwKkxVbbEelaBe08gD9GabDe/PfvwH8D21P6Bn6Orm8c3gVMB1ZRCm98F8A5tww4AbiYUqxtGXABXbyG0U3MzpSbmP8JvAS8SClO+C/A15xz6yp/mj0D59zzwD9Ruun8R0pfdpMj30fA+Kj8HnAS8GCZej4Bjqd04+r3wPLoeIC5wGvAKjNbGz12YdTWc1HY7UlKv+Jwzs2k9J6aGx0z12/LzE41s9dSnta3Kd1wWw6sAP6a0g3tHoN0rQ5LhpeEEEIUhXa+AhdCiLZGA7gQQhQUDeBCCFFQqhrAzWycmS00s8VmNrVWnRLNRbq2L9K2vch9EzOa/PIGpemmyymlznzTOffblHN0x7RFcM5ZV4/XW9dttsl2zbBp06Zc53VXT1bS2kurMzzPP7aSOrMe6x+3adOmsrpC5dpWomvfvn0zHbd+/fpc53VXT1bS2kurMzzPP7aSOrMe20V7a51zWy3bUc1qYAcDi51zbwGY2U8ppdmV/aCLQlBXXXfcMduqou+//36u87qrJytp7aXVGZ7nH1tJnVmP9Y/r7Owse05E3bQ94ogjMh03Y8aMXOd1V09W0tpLqzM8zz+2kjqzHttFe13OBq0mhDKE5HTT5dFjCcxsipk9b2bPV9GWaBzStX3pVlvpWizqvh6vc+4W4BZQCKWdkK7tiXQtFtUM4CtIrhewe/SYKDZV67rzzls2H0kLN4Q+/7w0KjkvzVdJeMU/Nm+dtXq+VVCVtscdd1xsp4UbQp9/XhqVnJfmqyS84h+bt85aPd88VBNCmQ+MNLMR0RoDJwMdVfdINBvp2r5I2zYj9xW4c26jmZ1DaU3sXsBtzrm09QFEAZCu7Yu0bT+qioE75x6jtGiUaCNaUde0EEZeXz3CKyFZw0lpdWYNtWSh1bRNC2Hk9dUjvBKSNZyUVmfWUEsamokphBAFRQO4EEIUFA3gQghRUOqeBy5ELcgbS84bP06LpacdGx6XNa0wrb286YdFIG8sOW/8OC2WnnZseFzWtMK09vKmH/roClwIIQqKBnAhhCgoDd1STVNzW4e0VesqpVevXs5fVKmGMwerJm+4IS1skTeEU4+Zp6Gvlrr269fP+Ysq1WLmYK3IG0JJC1vkDeHUY+ZpF31Z4Jw7KHxQV+BCCFFQNIALIURB0QAuhBAFRWmEGejTp09sH3XUUQnfKaeckijvsssusT1u3LiEb+HChbG9du3ahG/JkiVlfTfccENsL168OGOvRXek6Xrqqacmyn/6059i+6STTkr4Vq5cGduhdvPmzYvt7bffPuGbOnXLjmZ//vOfE756TaXvCfTu3Tu2x44dm/DdfffdifJFF10U25XcD/TfA+Fncs8994ztSpYAyIOuwIUQoqBoABdCiIKiNMIumDBhQqJ8ySWXxLb/8wjALJm1VcUm0WXrWLNmTWyHP7sWLFiQq72ipRFmTeNLCzeEuk6ePDm2q9G1X79+sb1u3bqyvpANGzbE9rHHHpvwpema9vyLlkaYNY0vLdwwceLERHnZsi27xlWj61e+8pXY7ujoKOtL47LLLkuUn3++/E513by+SiMUQoh2QgO4EEIUFA3gQghRUJRGGPGd73wntq+99tqEz09L6g4/HcyPxQE89dRTsX3kkUcmfH4q2kcffZTwjRkzJravvvrqhC9Mf2s1arV7Tt5Nhf10wEsvvTThq0RXP5a9atWqhM/XJIzHvvDCC7Ed6nrIIYfE9jXXXJPwHXTQlnBn1k2bOzs7yx5Xa2q1e07eTYWHDt2yN/M22ySvQ8O4dxppsexjjjkmth97LN8mRuF7zo/BV7Jpc7n4uK7AhRCioGgAF0KIgqI0woh33303tgcMGJDw+WGRW2+9NeF79tlnE+VXX301tl97Ld+G32Hq2SuvvBLb2223XcI3cODAXG3UM42w3lSSpvjmm2/Gdqir/zpPnz494XvmmWcS5ZkzZ8b28uXLE76sKY5hCtv69etjO9TVnyVaCfVMI6w3laQp3n777bEd6uqHRd56662EL9Q1TC31ybtSYdqYGr4HKkBphEII0U5oABdCiIKiAVwIIQqK0ggzcP3118f2hRde2MSe9Fzyrs7np5uFaYM33XRTbPtppNX0rRL8NNORI0fmbr/I5F2dz18GIeT111+P7VGjRuXqF+RfOsB/X5155pm528+CrsCFEKKgdDuAm9ltZrbGzF71HhtgZrPNbFH0v399uylqjXRtX6RtzyFLCGU6cD1wp/fYVGCOc+4qM5salQsdW/DTe8JUn3DmXb0JZ2kOGTIktv2UwiqZTo103bRpU+6Zkj712LjAT/kbMWJEwlcPXdOew4knnpgo+z/vn3766VxtlHk9p1MDbdevX597pqRPLTYuCLnjjjtie9KkSQlfPXRNew7jx49PlL/1rW/F9g9+8INcbWQN33R7Be6c+xXwXvDwCcDmV/AO4KuZWhMtg3RtX6RtzyHvTcxBzrnNi3esAgaVO9DMpgBTcrYjGot0bV8yaStdi0XVWSjOOZc2w9I5dwtwC7T2TEyRRLq2L2naStdikXcAX21mg51zK81sMLCm2zNanPnz58f2l7/85YTPTx30p/DC1juw1ILRo0cnyv7UXH9FwzpQE12zxrnTjsubmhee5+saxsD9TYUvv/zyhK8eS0yE9zZ8Ql3z3kdIoWpts8a5047Lm5qXthphGANPe53rQfh59Zk7d26inPc+QjnyphF2AJtftUnAIznrEa2FdG1fpG0bkiWN8F7gWeBzZrbczE4HrgLGmtkiYExUFgVCurYv0rbn0G0IxTn3zTKu1t5JoEIeeOCB2A5DKP6Kf2PHjk347rvvvpr3ZaeddkqU/Y0A0jZFrYRG6Zq2MUNILTZDDtu7//77YzvU1SfU9YknnsjVftpzSAu3+Rt6hPWEz6m7MFQjtM264UB3vrztPfjgg7E9bty4sueFqzz6K4tWQtpzCGf4+n2bMiV5P/ikk06K7fA51SWNUAghRGuiAVwIIQqKBnAhhCgo2pEnwt9RJtxJZ/fdd4/tMAbtb0xbDX4q0qxZsxK+hQsXxvZ+++1Xk/ZquXNLqGvWVMFKyFpnGC/2dQ1fV1/X1atXJ3yf//znc/Uz5IADDojt2bNnJ3y/+93vYvvYY48tW0fW59vZ2cknn3xSN13z7lCTRtY6w3ixr2u4a5Cva7hpcRU74pTFv38Gyc9ruAOQTyXPd8aMGdqRRwgh2gkN4EIIUVC0oUNEZ2dnbPs/bSH5k+ygg5K/YoYPH54oL1myJFf7e++9d2yvWZOcJDdx4sRcdbYClaQR1mMVQ1/XDz/8MOHzNzUON5Lef//9E+WXXnopVz/TdL3kkksy1VOHWZlVU0kaYT1WMfR1Peuss8oeF3Luuecmytddd12m9sJ++mNCqOuGDRsy1VOLWZm6AhdCiIKiAVwIIQqKBnAhhCgobZ1G2KdPn0T5qKPKzyTeddddY/v8889P+NJS98K0JP/1/OCDDxI+P/5255130kyalUaYNZ5bSdz3i1/8Ymz7q9RBUld/GjMk08/Wr1+f8FWi6znnnBPb4aqCeVdmzJM22cw0wqzx3Lxx3xtvvDFR9nX10/YgeW/hF7/4RcKXV9fDDz88c1+zvk5KIxRCiB6MBnAhhCgoGsCFEKKgtF0M/OCDD47tmTNnJnx+rm9aLKwSwnr8qfYPPfRQwvfOO+/Etr+rdjOoZwzcJ+9O82Hcd8yYMbH9+OOPJ3y9evUqW0/eHZNCXf2p9tOmTUv4VqxYEdsPP/xwrvbSSMulb2QM3CfvTvNh3PeKK66I7bS8+JCOjo5c7Ye6Hn/88bH9hS98IeHzP6/vvRfuEV09abn0ioELIUSbowFcCCEKSuFDKOGqcY899lhs77HHHml9SZT91yGcDv/pT386tsMdPhYsWJAo++lGH3/8cdn2m02jQighWUMq/hR0gJtvvjm266GrbwO88cYbibKfqpima96p7bVYRqCRIZSQrCGVUFc/7bMeun7jG99I7c/48eNjO03XvKsv1moZAYVQhBCizdAALoQQBUUDuBBCFJRCLifrxyP9XccBBg0alKkOf6d3gLPPPju277nnnoTPnx7tpynC1svL+jvK1yP1qJ0IY7v77LNPbIdplnl1/eEPfxjboa533XVXbIf3Nvbaa69EOU3XvNPl89RRBNJiu+EOOXl13XbbLUPXvHnzEr6RI0fGdqhr2H6arnmny+epIy+6AhdCiIKiAVwIIQpKIUMoffv2je2sP8EALr300tgOZ/OFmxX7+GlKYQhF1I599903tkNdwx1zfM4777zYfuWVVxK+MM3TJ03XcHXCNNLCJPVYjbAem0bXE38lwVDXMKTh428I7af7AcyfP7/seb6uhx56aMIXrk6YRlqYpB6rEebZNFpX4EIIUVC6HcDNbKiZPWVmvzWz18zsvOjxAWY228wWRf/717+7olZI1/ZEuvYsslyBbwTOd86NAg4FzjazUcBUYI5zbiQwJyqL4iBd2xPp2oPoNgbunFsJrIzsD8zsdWAIcAIwOjrsDuCXwIV16WUK4RTbNI488sjYvv322zOf58fUwvbCsp/imHf6bSNoBV3T0uPSYt4hvq5PPPFE5vM2btwY293pethhh8X2o48+mvBl3UkojbTzKqmzFXRNS49Li3mH+Lr6KwN2x8UXXxzbb7/9dsIX6uovfRHGx7PuJJRG2nm1SCOs6CammQ0HDgR+DQyK3iwAq4Au7yaa2RRgSv4uinojXdsT6dr+ZL6JaWY7Ag8A33POJW59u9LKMl0ufOOcu8U5d1BXC7GI5iNd2xPp2jPIdAVuZr0pvRnucc49GD282swGO+dWmtlgYE29Ohny5JNPxva9996b8J188sllzxs9enRsz5kzJ+E744wzYjtclcz/qdPd6o3+zK5Wp5V1rWTTXF/XcLNoX9cwhc1fzN9PTe2KWoU4GkGr6Tp79uzYPu200xK+tM+LH0JZtGhRwuevTulvCgHJdFTf7opw/PCpRYij3mTJQjHgJ8Drzrkfea4OYFJkTwIeqX33RL2Qru2JdO1ZZLkCPxyYALxiZi9Gj10MXAX83MxOB5YC6QvvilZDurYn0rUHkSUL5WmgXKrHUbXtjmgU0rU9ka49i8LvyBOuNubvwHH11VcnfAMHDvT7kvDlfR0WL16cKPvTfzds2JCrzkbQrB158nLCCSfE9jXXXJPwZdW1ktREfxNj2HrHnqzUIj5eyVT6ounav/+W+UR5da0kNTGkkjRkn1rExyucSq8deYQQop3QAC6EEAWl8CGUNIYNG5YoT5s2LbaPPvrohK9Pnz6Z6vzLX/6SKJ944omJ8qxZsyrpYtMo2k9tnzDl77rrrovtCRMmJHzr1q2L7UpCKP7MS4Dnnnsu03lhyKQWszQrWXGwyLqGnH766bH94x//OOHr6OiI7UpCKLUKmdRilmaFM7UVQhFCiHZCA7gQQhQUDeBCCFFQ2joGnsb++++fKJ977rmxHcbH/d17/HgrwMsvv1yH3tWfdoqV+gwfPjxR9lPT0nS94IILEr6lS5fWpD9pce+sse20uHpIu+oa4qd57rbbbmV9edM/uyMt7p01tp0WV+8CxcCFEKKd0AAuhBAFpceGUHo6PeWndqOpJNxRD6Rrfagw3FEPFEIRQoh2QgO4EEIUFA3gQghRUCraE1MIsTVpqwOK4tLN6oAtga7AhRCioGgAF0KIgqIQiuix5J0l2exNjBWySSfvLMlmb2KcJ2SjK3AhhCgoGsCFEKKgaAAXQoiC0uip9O8CS4FdgbUNazidntiXPZxzA7s/LBvStVuka+3oqX3pUtuGDuBxo2bPdzWvvxmoL7WjlfqvvtSOVuq/+pJEIRQhhCgoGsCFEKKgNGsAv6VJ7XaF+lI7Wqn/6kvtaKX+qy8eTYmBCyGEqB6FUIQQoqBoABdCiILS0AHczMaZ2UIzW2xmUxvZdtT+bWa2xsxe9R4bYGazzWxR9L9/A/ox1MyeMrPfmtlrZnZes/pSC6Rroi9to610TfSlJXVt2ABuZr2AG4B/BEYB3zSzUY1qP2I6MC54bCowxzk3EpgTlevNRuB859wo4FDg7Oi1aEZfqkK6bkVbaCtdt6I1dXXONeQPOAyY5ZUvAi5qVPteu8OBV73yQmBwZA8GFjahT48AY1uhL9JV2krX4ujayBDKEGCZV14ePdZsBjnnVkb2KmBQIxs3s+HAgcCvm92XnEjXMhRcW+lahlbSVTcxPVzpa7RheZVmtiPwAPA951xiYedG96WdacZrKW3rj3Rt7AC+AhjqlXePHms2q81sMED0f00jGjWz3pTeCPc45x5sZl+qRLoGtIm20jWgFXVt5AA+HxhpZiPMrA9wMtDRwPbL0QFMiuxJlGJbdcXMDPgJ8Lpz7kfN7EsNkK4ebaStdPVoWV0bHPg/BngDeBP4tybceLgXWAl8TCmmdzqwC6W7x4uAJ4EBDejHlyj91HoZeDH6O6YZfZGu0la6FldXTaUXQoiCopuYQghRUDSACyFEQdEALoQQBUUDuBBCFBQN4EIIUVA0gAshREHRAC6EEAXl/wGba4GUYMqjSwAAAABJRU5ErkJggg==\n",
      "text/plain": [
       "<Figure size 432x288 with 3 Axes>"
      ]
     },
     "metadata": {
      "needs_background": "light"
     },
     "output_type": "display_data"
    },
    {
     "data": {
      "image/png": "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\n",
      "text/plain": [
       "<Figure size 432x288 with 3 Axes>"
      ]
     },
     "metadata": {
      "needs_background": "light"
     },
     "output_type": "display_data"
    },
    {
     "data": {
      "image/png": "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\n",
      "text/plain": [
       "<Figure size 432x288 with 3 Axes>"
      ]
     },
     "metadata": {
      "needs_background": "light"
     },
     "output_type": "display_data"
    },
    {
     "data": {
      "image/png": "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\n",
      "text/plain": [
       "<Figure size 432x288 with 3 Axes>"
      ]
     },
     "metadata": {
      "needs_background": "light"
     },
     "output_type": "display_data"
    }
   ],
   "source": [
    "for ix in range(len(x)):\n",
    "    plt.subplot(131)\n",
    "    plt.imshow(x[ix,0].detach().cpu(), cmap=\"gray\")\n",
    "    plt.title(f\"Label: {y[ix]}\")\n",
    "    plt.subplot(132)\n",
    "    plt.imshow(x_pert_l2[ix,0].detach().cpu(), cmap=\"gray\")\n",
    "    plt.title(f\"Predicted: {y_pert_l2[ix]}\")\n",
    "    \n",
    "    plt.subplot(133)\n",
    "    plt.imshow(x_pert_linf[ix,0].detach().cpu(), cmap=\"gray\")\n",
    "    plt.title(f\"Predicted: {y_pert_linf[ix]}\")\n",
    "    plt.show()"
   ]
  },
  {
   "cell_type": "markdown",
   "metadata": {},
   "source": [
    "### Quantitative evaluation\n",
    "Perturb each test sample and compare the clean and perturbed accuracies."
   ]
  },
  {
   "cell_type": "markdown",
   "metadata": {},
   "source": [
    "$L_2$ perturbations:"
   ]
  },
  {
   "cell_type": "code",
   "execution_count": 40,
   "metadata": {},
   "outputs": [
    {
     "data": {
      "application/vnd.jupyter.widget-view+json": {
       "model_id": "3270a88a710a489689794e225b06e1aa",
       "version_major": 2,
       "version_minor": 0
      },
      "text/plain": [
       "HBox(children=(FloatProgress(value=0.0, max=10.0), HTML(value='')))"
      ]
     },
     "metadata": {},
     "output_type": "display_data"
    },
    {
     "name": "stdout",
     "output_type": "stream",
     "text": [
      "\n"
     ]
    }
   ],
   "source": [
    "perturbed_accuracy_l2 = predict_model(model, mnist_testset, batch_size=test_batch_size, attack_function=fast_gradient_attack, attack_args=attack_args_l2)"
   ]
  },
  {
   "cell_type": "markdown",
   "metadata": {},
   "source": [
    "$L_\\infty$ perturbations:"
   ]
  },
  {
   "cell_type": "code",
   "execution_count": 41,
   "metadata": {},
   "outputs": [
    {
     "data": {
      "application/vnd.jupyter.widget-view+json": {
       "model_id": "58e8181e285541bca1a7d85f79309160",
       "version_major": 2,
       "version_minor": 0
      },
      "text/plain": [
       "HBox(children=(FloatProgress(value=0.0, max=10.0), HTML(value='')))"
      ]
     },
     "metadata": {},
     "output_type": "display_data"
    },
    {
     "name": "stdout",
     "output_type": "stream",
     "text": [
      "\n"
     ]
    }
   ],
   "source": [
    "perturbed_accuracy_linf = predict_model(model, mnist_testset, batch_size=test_batch_size, attack_function=fast_gradient_attack, attack_args=attack_args_linf)"
   ]
  },
  {
   "cell_type": "markdown",
   "metadata": {},
   "source": [
    "Your values for `clean_accuracy` and `perturbed_accuracy` should roughly match the ones below, even though they will of course not be identical."
   ]
  },
  {
   "cell_type": "code",
   "execution_count": 42,
   "metadata": {},
   "outputs": [
    {
     "data": {
      "text/plain": [
       "0.9599000215530396"
      ]
     },
     "execution_count": 42,
     "metadata": {},
     "output_type": "execute_result"
    }
   ],
   "source": [
    "clean_accuracy"
   ]
  },
  {
   "cell_type": "code",
   "execution_count": 43,
   "metadata": {},
   "outputs": [
    {
     "data": {
      "text/plain": [
       "0.9466999769210815"
      ]
     },
     "execution_count": 43,
     "metadata": {},
     "output_type": "execute_result"
    }
   ],
   "source": [
    "perturbed_accuracy_l2"
   ]
  },
  {
   "cell_type": "code",
   "execution_count": 44,
   "metadata": {},
   "outputs": [
    {
     "data": {
      "text/plain": [
       "0.27300000190734863"
      ]
     },
     "execution_count": 44,
     "metadata": {},
     "output_type": "execute_result"
    }
   ],
   "source": [
    "perturbed_accuracy_linf"
   ]
  },
  {
   "cell_type": "markdown",
   "metadata": {},
   "source": [
    "#### In the remaining parts of this project we will be focusing on **$L_2$-based attacks only**."
   ]
  }
 ],
 "metadata": {
  "kernelspec": {
   "display_name": "Python 3",
   "language": "python",
   "name": "python3"
  },
  "language_info": {
   "codemirror_mode": {
    "name": "ipython",
    "version": 3
   },
   "file_extension": ".py",
   "mimetype": "text/x-python",
   "name": "python",
   "nbconvert_exporter": "python",
   "pygments_lexer": "ipython3",
   "version": "3.6.9"
  },
  "pycharm": {
   "stem_cell": {
    "cell_type": "raw",
    "metadata": {
     "collapsed": false
    },
    "source": []
   }
  }
 },
 "nbformat": 4,
 "nbformat_minor": 4
}
