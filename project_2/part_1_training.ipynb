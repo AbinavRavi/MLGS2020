{
 "cells": [
  {
   "cell_type": "code",
   "execution_count": 100,
   "metadata": {},
   "outputs": [
    {
     "name": "stdout",
     "output_type": "stream",
     "text": [
      "The autoreload extension is already loaded. To reload it, use:\n",
      "  %reload_ext autoreload\n"
     ]
    }
   ],
   "source": [
    "%load_ext autoreload\n",
    "%autoreload 2\n",
    "import torch\n",
    "from torch.utils.data import DataLoader\n",
    "from torch.optim import Adam\n",
    "from matplotlib import pyplot as plt\n",
    "from utils import get_mnist_data\n",
    "from models import ConvNN\n",
    "from training_and_evaluation import train_model, predict_model\n",
    "from attacks import fast_gradient_attack\n",
    "from torch.nn.functional import cross_entropy\n",
    "import os\n",
    "if not os.path.isdir(\"models\"):\n",
    "    os.mkdir(\"models\")"
   ]
  },
  {
   "cell_type": "markdown",
   "metadata": {},
   "source": [
    "# Project 2, part 1: Creating adversarial examples (50 pt)\n",
    "In this notebook we train a basic convolutional neural network on MNIST and craft adversarial examples via gradient descent.\n",
    "\n",
    "## Your task\n",
    "Complete the missing code in the respective files, i.e. `training_and_evaluation.py`, `attacks.py`, and this notebook. Make sure that all the functions follow the provided specification, i.e. the output of the function exactly matches the description in the docstring. \n",
    "\n",
    "Specifically, for this part you will have to implement the following functions / classes:  \n",
    "**`training_and_evaluation.py`**:\n",
    "* `train_model` (15pt)\n",
    "* `predict_model` (10pt)\n",
    "\n",
    "**`attacks.py`**:\n",
    "* `fast_gradient_attack` (15pt)\n",
    "\n",
    "**This notebook**\n",
    "* Cells in the Qualitative Evaluation section. (10pt)\n",
    "\n",
    "## General remarks\n",
    "Do not add or modify any code outside of the following comment blocks, or where otherwise explicitly stated.\n",
    "\n",
    "``` python\n",
    "##########################################################\n",
    "# YOUR CODE HERE\n",
    "...\n",
    "##########################################################\n",
    "```\n",
    "After you fill in all the missing code, restart the kernel and re-run all the cells in the notebook.\n",
    "\n",
    "The following things are **NOT** allowed:\n",
    "- Using additional `import` statements\n",
    "- Copying / reusing code from other sources (e.g. code by other students)\n",
    "\n",
    "If you plagiarise even for a single project task, you won't be eligible for the bonus this semester."
   ]
  },
  {
   "cell_type": "code",
   "execution_count": 103,
   "metadata": {},
   "outputs": [],
   "source": [
    "mnist_trainset = get_mnist_data(train=True)\n",
    "mnist_testset = get_mnist_data(train=False)\n",
    "\n",
    "use_cuda = torch.cuda.is_available() #and False\n",
    "\n",
    "model = ConvNN()\n",
    "if use_cuda:\n",
    "    model = model.cuda()\n",
    "\n",
    "epochs = 1\n",
    "batch_size = 128\n",
    "test_batch_size = 1000  # feel free to change this\n",
    "lr = 1e-3\n",
    "\n",
    "opt = Adam(model.parameters(), lr=lr)"
   ]
  },
  {
   "cell_type": "code",
   "execution_count": 104,
   "metadata": {},
   "outputs": [],
   "source": [
    "def loss_function(x, y, model):\n",
    "    logits = model(x).cpu()\n",
    "    loss = cross_entropy(logits, y)\n",
    "    return loss, logits"
   ]
  },
  {
   "cell_type": "markdown",
   "metadata": {},
   "source": [
    "Implement the `train_model` function in the file `training_and_evaluation.py`."
   ]
  },
  {
   "cell_type": "code",
   "execution_count": 105,
   "metadata": {},
   "outputs": [
    {
     "data": {
      "application/vnd.jupyter.widget-view+json": {
       "model_id": "cee00d62ace54a8a8892990a5fee501a",
       "version_major": 2,
       "version_minor": 0
      },
      "text/plain": [
       "HBox(children=(FloatProgress(value=0.0, max=469.0), HTML(value='')))"
      ]
     },
     "metadata": {},
     "output_type": "display_data"
    },
    {
     "name": "stdout",
     "output_type": "stream",
     "text": [
      "\n"
     ]
    }
   ],
   "source": [
    "losses, accuracies = train_model(model, mnist_trainset, batch_size=batch_size, loss_function=loss_function, optimizer=opt)"
   ]
  },
  {
   "cell_type": "code",
   "execution_count": 106,
   "metadata": {},
   "outputs": [],
   "source": [
    "torch.save(model.state_dict(), \"models/standard_training.checkpoint\")"
   ]
  },
  {
   "cell_type": "code",
   "execution_count": 107,
   "metadata": {},
   "outputs": [
    {
     "data": {
      "text/plain": [
       "<All keys matched successfully>"
      ]
     },
     "execution_count": 107,
     "metadata": {},
     "output_type": "execute_result"
    }
   ],
   "source": [
    "model.load_state_dict(torch.load(\"models/standard_training.checkpoint\", map_location=\"cpu\"))"
   ]
  },
  {
   "cell_type": "code",
   "execution_count": 108,
   "metadata": {},
   "outputs": [
    {
     "data": {
      "image/png": "[encoded data removed]",
      "text/plain": [
       "<Figure size 720x216 with 2 Axes>"
      ]
     },
     "metadata": {
      "needs_background": "light"
     },
     "output_type": "display_data"
    }
   ],
   "source": [
    "fig = plt.figure(figsize=(10,3))\n",
    "plt.subplot(121)\n",
    "plt.plot(losses)\n",
    "plt.xlabel(\"Iteration\")\n",
    "plt.ylabel(\"Training Loss\")\n",
    "plt.subplot(122)\n",
    "plt.plot(accuracies)\n",
    "plt.xlabel(\"Iteration\")\n",
    "plt.ylabel(\"Training Accuracy\")\n",
    "plt.show()"
   ]
  },
  {
   "cell_type": "markdown",
   "metadata": {},
   "source": [
    "Implement the `predict_model` function in the file `training_and_evaluation.py`."
   ]
  },
  {
   "cell_type": "code",
   "execution_count": 109,
   "metadata": {},
   "outputs": [
    {
     "data": {
      "application/vnd.jupyter.widget-view+json": {
       "model_id": "afaf63c1391949a587f9a629b452deeb",
       "version_major": 2,
       "version_minor": 0
      },
      "text/plain": [
       "HBox(children=(FloatProgress(value=0.0, max=10.0), HTML(value='')))"
      ]
     },
     "metadata": {},
     "output_type": "display_data"
    },
    {
     "name": "stdout",
     "output_type": "stream",
     "text": [
      "\n"
     ]
    },
    {
     "ename": "RuntimeError",
     "evalue": "There were no tensor arguments to this function (e.g., you passed an empty list of Tensors), but no fallback function is registered for schema aten::_cat.  This usually means that this function requires a non-empty list of Tensors.  Available functions are [CPUTensorId, QuantizedCPUTensorId, VariableTensorId]",
     "output_type": "error",
     "traceback": [
      "\u001b[0;31m---------------------------------------------------------------------------\u001b[0m",
      "\u001b[0;31mRuntimeError\u001b[0m                              Traceback (most recent call last)",
      "\u001b[0;32m<ipython-input-109-1204c7302bcc>\u001b[0m in \u001b[0;36m<module>\u001b[0;34m\u001b[0m\n\u001b[0;32m----> 1\u001b[0;31m \u001b[0mclean_accuracy\u001b[0m \u001b[0;34m=\u001b[0m \u001b[0mpredict_model\u001b[0m\u001b[0;34m(\u001b[0m\u001b[0mmodel\u001b[0m\u001b[0;34m,\u001b[0m \u001b[0mmnist_testset\u001b[0m\u001b[0;34m,\u001b[0m \u001b[0mbatch_size\u001b[0m\u001b[0;34m=\u001b[0m\u001b[0mtest_batch_size\u001b[0m\u001b[0;34m,\u001b[0m \u001b[0mattack_function\u001b[0m\u001b[0;34m=\u001b[0m\u001b[0;32mNone\u001b[0m\u001b[0;34m)\u001b[0m\u001b[0;34m\u001b[0m\u001b[0;34m\u001b[0m\u001b[0m\n\u001b[0m",
      "\u001b[0;32m~/Desktop/MLGSD/MLGS2020/project_2/training_and_evaluation.py\u001b[0m in \u001b[0;36mpredict_model\u001b[0;34m(model, dataset, batch_size, attack_function, attack_args)\u001b[0m\n\u001b[1;32m     92\u001b[0m         \u001b[0;34m...\u001b[0m\u001b[0;34m\u001b[0m\u001b[0;34m\u001b[0m\u001b[0m\n\u001b[1;32m     93\u001b[0m         \u001b[0;31m##########################################################\u001b[0m\u001b[0;34m\u001b[0m\u001b[0;34m\u001b[0m\u001b[0;34m\u001b[0m\u001b[0m\n\u001b[0;32m---> 94\u001b[0;31m     \u001b[0mpredictions\u001b[0m \u001b[0;34m=\u001b[0m \u001b[0mtorch\u001b[0m\u001b[0;34m.\u001b[0m\u001b[0mcat\u001b[0m\u001b[0;34m(\u001b[0m\u001b[0mpredictions\u001b[0m\u001b[0;34m)\u001b[0m\u001b[0;34m\u001b[0m\u001b[0;34m\u001b[0m\u001b[0m\n\u001b[0m\u001b[1;32m     95\u001b[0m     \u001b[0mtargets\u001b[0m \u001b[0;34m=\u001b[0m \u001b[0mtorch\u001b[0m\u001b[0;34m.\u001b[0m\u001b[0mcat\u001b[0m\u001b[0;34m(\u001b[0m\u001b[0mtargets\u001b[0m\u001b[0;34m)\u001b[0m\u001b[0;34m\u001b[0m\u001b[0;34m\u001b[0m\u001b[0m\n\u001b[1;32m     96\u001b[0m     \u001b[0maccuracy\u001b[0m \u001b[0;34m=\u001b[0m \u001b[0;34m(\u001b[0m\u001b[0mpredictions\u001b[0m \u001b[0;34m==\u001b[0m \u001b[0mtargets\u001b[0m\u001b[0;34m)\u001b[0m\u001b[0;34m.\u001b[0m\u001b[0mfloat\u001b[0m\u001b[0;34m(\u001b[0m\u001b[0;34m)\u001b[0m\u001b[0;34m.\u001b[0m\u001b[0mmean\u001b[0m\u001b[0;34m(\u001b[0m\u001b[0;34m)\u001b[0m\u001b[0;34m.\u001b[0m\u001b[0mitem\u001b[0m\u001b[0;34m(\u001b[0m\u001b[0;34m)\u001b[0m\u001b[0;34m\u001b[0m\u001b[0;34m\u001b[0m\u001b[0m\n",
      "\u001b[0;31mRuntimeError\u001b[0m: There were no tensor arguments to this function (e.g., you passed an empty list of Tensors), but no fallback function is registered for schema aten::_cat.  This usually means that this function requires a non-empty list of Tensors.  Available functions are [CPUTensorId, QuantizedCPUTensorId, VariableTensorId]"
     ]
    }
   ],
   "source": [
    "clean_accuracy = predict_model(model, mnist_testset, batch_size=test_batch_size, attack_function=None)"
   ]
  },
  {
   "cell_type": "markdown",
   "metadata": {},
   "source": [
    "### Creating adversarial examples\n",
    "#### $L_2$-bounded attacks\n",
    "Fist, craft adversarial perturbations that have a $L_2$ norm of $ \\| \\tilde{\\mathbf{x}} - \\mathbf{x} \\|_2 = \\epsilon$ with $\\epsilon=5$.\n",
    "\n",
    "#### $L_\\infty$-bounded attacks\n",
    "Afterwards, craft adversarial perturbations with $L_\\infty$ norm of $ \\| \\tilde{\\mathbf{x}} - \\mathbf{x} \\|_\\infty = \\epsilon$ with $\\epsilon=0.3$.\n",
    "\n",
    "For this you need to implement `predict_model` in the file `training_and_evaluation.py` and `fast_gradient_attack` in `attacks.py`. See the docstring comments there."
   ]
  },
  {
   "cell_type": "code",
   "execution_count": 165,
   "metadata": {},
   "outputs": [],
   "source": [
    "attack_args_l2 = {\"epsilon\": 5, \"norm\": \"2\"}\n",
    "attack_args_linf = {\"epsilon\": 0.3, \"norm\": \"inf\"}"
   ]
  },
  {
   "cell_type": "markdown",
   "metadata": {},
   "source": [
    "### Qualitative evaluation\n",
    "\n",
    "First, craft adversarial examples for 10 randomly selected test samples and inspect them by plotting them."
   ]
  },
  {
   "cell_type": "markdown",
   "metadata": {},
   "source": [
    "$L_2$ attack:"
   ]
  },
  {
   "cell_type": "code",
   "execution_count": 166,
   "metadata": {},
   "outputs": [
    {
     "name": "stdout",
     "output_type": "stream",
     "text": [
      "tensor([[[[ 0.0113,  0.0113, -0.0113,  ..., -0.0113, -0.0113, -0.0113],\n",
      "          [ 0.0113,  0.0113, -0.0113,  ..., -0.0113, -0.0113, -0.0113],\n",
      "          [-0.0113,  0.0113,  0.0113,  ..., -0.0113, -0.0113, -0.0113],\n",
      "          ...,\n",
      "          [-0.0113, -0.0113,  0.0113,  ..., -0.0113, -0.0113,  0.0113],\n",
      "          [-0.0113, -0.0113,  0.0113,  ...,  0.0113, -0.0113,  0.0113],\n",
      "          [-0.0113, -0.0113, -0.0113,  ...,  0.0113, -0.0113,  0.0113]]],\n",
      "\n",
      "\n",
      "        [[[ 0.0113,  0.0113,  0.0113,  ...,  0.0113,  0.0113, -0.0113],\n",
      "          [ 0.0113,  0.0113,  0.0113,  ..., -0.0113, -0.0113, -0.0113],\n",
      "          [-0.0113,  0.0113,  0.0113,  ...,  0.0113,  0.0113, -0.0113],\n",
      "          ...,\n",
      "          [-0.0113,  0.0113, -0.0113,  ..., -0.0113, -0.0113,  0.0113],\n",
      "          [-0.0113, -0.0113, -0.0113,  ...,  0.0113, -0.0113,  0.0113],\n",
      "          [-0.0113, -0.0113, -0.0113,  ...,  0.0113, -0.0113,  0.0113]]],\n",
      "\n",
      "\n",
      "        [[[ 0.0113,  0.0113,  0.0113,  ..., -0.0113, -0.0113, -0.0113],\n",
      "          [ 0.0113,  0.0113,  0.0113,  ..., -0.0113, -0.0113, -0.0113],\n",
      "          [ 0.0113,  0.0113,  0.0113,  ...,  0.0113, -0.0113, -0.0113],\n",
      "          ...,\n",
      "          [-0.0113, -0.0113,  0.0113,  ...,  0.0113,  0.0113,  0.0113],\n",
      "          [-0.0113, -0.0113, -0.0113,  ...,  0.0113,  0.0113,  0.0113],\n",
      "          [-0.0113, -0.0113, -0.0113,  ...,  0.0113, -0.0113,  0.0113]]],\n",
      "\n",
      "\n",
      "        ...,\n",
      "\n",
      "\n",
      "        [[[ 0.0113,  0.0113,  0.0113,  ..., -0.0113, -0.0113, -0.0113],\n",
      "          [ 0.0113,  0.0113,  0.0113,  ..., -0.0113, -0.0113, -0.0113],\n",
      "          [ 0.0113,  0.0113,  0.0113,  ...,  0.0113, -0.0113, -0.0113],\n",
      "          ...,\n",
      "          [-0.0113, -0.0113,  0.0113,  ...,  0.0113,  0.0113,  0.0113],\n",
      "          [-0.0113, -0.0113, -0.0113,  ...,  0.0113,  0.0113,  0.0113],\n",
      "          [-0.0113, -0.0113, -0.0113,  ...,  0.0113, -0.0113,  0.0113]]],\n",
      "\n",
      "\n",
      "        [[[-0.0113, -0.0113,  0.0113,  ..., -0.0113, -0.0113, -0.0113],\n",
      "          [-0.0113, -0.0113,  0.0113,  ..., -0.0113, -0.0113, -0.0113],\n",
      "          [ 0.0113, -0.0113, -0.0113,  ..., -0.0113,  0.0113,  0.0113],\n",
      "          ...,\n",
      "          [-0.0113, -0.0113, -0.0113,  ...,  0.0113,  0.0113,  0.0113],\n",
      "          [-0.0113, -0.0113, -0.0113,  ..., -0.0113,  0.0113,  0.0113],\n",
      "          [-0.0113, -0.0113, -0.0113,  ...,  0.0113, -0.0113,  0.0113]]],\n",
      "\n",
      "\n",
      "        [[[ 0.0113,  0.0113,  0.0113,  ..., -0.0113, -0.0113, -0.0113],\n",
      "          [ 0.0113,  0.0113,  0.0113,  ..., -0.0113, -0.0113, -0.0113],\n",
      "          [ 0.0113,  0.0113,  0.0113,  ...,  0.0113, -0.0113, -0.0113],\n",
      "          ...,\n",
      "          [-0.0113, -0.0113,  0.0113,  ...,  0.0113,  0.0113,  0.0113],\n",
      "          [-0.0113, -0.0113, -0.0113,  ...,  0.0113,  0.0113,  0.0113],\n",
      "          [-0.0113, -0.0113, -0.0113,  ...,  0.0113, -0.0113,  0.0113]]]])\n"
     ]
    }
   ],
   "source": [
    "test_loader = DataLoader(mnist_testset, batch_size = 10, shuffle=True)\n",
    "x,y = next(iter(test_loader))\n",
    "##########################################################\n",
    "# YOUR CODE HERE\n",
    "x, y = x.cpu(), y.cpu()\n",
    "x.requires_grad = True\n",
    "logits = model(x).cpu()\n",
    "x_pert_l2 = fast_gradient_attack(logits, x, y, attack_args_l2['epsilon'], attack_args_l2['norm'])\n",
    "y_pert_l2 = torch.argmax(model(x_pert_l2).cpu(),dim=1)\n",
    "##########################################################"
   ]
  },
  {
   "cell_type": "markdown",
   "metadata": {},
   "source": [
    "$L_\\infty$ attack:"
   ]
  },
  {
   "cell_type": "code",
   "execution_count": 167,
   "metadata": {},
   "outputs": [
    {
     "name": "stdout",
     "output_type": "stream",
     "text": [
      "tensor([[[[ 1.,  1., -1.,  ..., -1., -1., -1.],\n",
      "          [ 1.,  1., -1.,  ..., -1., -1., -1.],\n",
      "          [-1.,  1.,  1.,  ..., -1., -1., -1.],\n",
      "          ...,\n",
      "          [-1., -1.,  1.,  ..., -1., -1.,  1.],\n",
      "          [-1., -1.,  1.,  ...,  1., -1.,  1.],\n",
      "          [-1., -1., -1.,  ...,  1., -1.,  1.]]],\n",
      "\n",
      "\n",
      "        [[[ 1.,  1.,  1.,  ...,  1.,  1., -1.],\n",
      "          [ 1.,  1.,  1.,  ..., -1., -1., -1.],\n",
      "          [-1.,  1.,  1.,  ...,  1.,  1., -1.],\n",
      "          ...,\n",
      "          [-1.,  1., -1.,  ..., -1., -1.,  1.],\n",
      "          [-1., -1., -1.,  ...,  1., -1.,  1.],\n",
      "          [-1., -1., -1.,  ...,  1., -1.,  1.]]],\n",
      "\n",
      "\n",
      "        [[[ 1.,  1.,  1.,  ..., -1., -1., -1.],\n",
      "          [ 1.,  1.,  1.,  ..., -1., -1., -1.],\n",
      "          [ 1.,  1.,  1.,  ...,  1., -1., -1.],\n",
      "          ...,\n",
      "          [-1., -1.,  1.,  ...,  1.,  1.,  1.],\n",
      "          [-1., -1., -1.,  ...,  1.,  1.,  1.],\n",
      "          [-1., -1., -1.,  ...,  1., -1.,  1.]]],\n",
      "\n",
      "\n",
      "        ...,\n",
      "\n",
      "\n",
      "        [[[ 1.,  1.,  1.,  ..., -1., -1., -1.],\n",
      "          [ 1.,  1.,  1.,  ..., -1., -1., -1.],\n",
      "          [ 1.,  1.,  1.,  ...,  1., -1., -1.],\n",
      "          ...,\n",
      "          [-1., -1.,  1.,  ...,  1.,  1.,  1.],\n",
      "          [-1., -1., -1.,  ...,  1.,  1.,  1.],\n",
      "          [-1., -1., -1.,  ...,  1., -1.,  1.]]],\n",
      "\n",
      "\n",
      "        [[[-1., -1.,  1.,  ..., -1., -1., -1.],\n",
      "          [-1., -1.,  1.,  ..., -1., -1., -1.],\n",
      "          [ 1., -1., -1.,  ..., -1.,  1.,  1.],\n",
      "          ...,\n",
      "          [-1., -1., -1.,  ...,  1.,  1.,  1.],\n",
      "          [-1., -1., -1.,  ..., -1.,  1.,  1.],\n",
      "          [-1., -1., -1.,  ...,  1., -1.,  1.]]],\n",
      "\n",
      "\n",
      "        [[[ 1.,  1.,  1.,  ..., -1., -1., -1.],\n",
      "          [ 1.,  1.,  1.,  ..., -1., -1., -1.],\n",
      "          [ 1.,  1.,  1.,  ...,  1., -1., -1.],\n",
      "          ...,\n",
      "          [-1., -1.,  1.,  ...,  1.,  1.,  1.],\n",
      "          [-1., -1., -1.,  ...,  1.,  1.,  1.],\n",
      "          [-1., -1., -1.,  ...,  1., -1.,  1.]]]])\n"
     ]
    }
   ],
   "source": [
    "##########################################################\n",
    "# YOUR CODE HERE\n",
    "x, y = x.cpu(), y.cpu()\n",
    "x.requires_grad = True\n",
    "logits = model(x).cpu()\n",
    "x_pert_linf = fast_gradient_attack(logits, x, y, attack_args_linf['epsilon'], attack_args_linf['norm'])\n",
    "y_pert_linf = torch.argmax(model(x_pert_l2).cpu(), dim=1)\n",
    "##########################################################"
   ]
  },
  {
   "cell_type": "markdown",
   "metadata": {},
   "source": [
    "Visualize the adversarial examples and the model's prediction on them:"
   ]
  },
  {
   "cell_type": "code",
   "execution_count": 168,
   "metadata": {},
   "outputs": [
    {
     "data": {
      "image/png": "[encoded data removed]",
      "text/plain": [
       "<Figure size 432x288 with 3 Axes>"
      ]
     },
     "metadata": {
      "needs_background": "light"
     },
     "output_type": "display_data"
    },
    {
     "data": {
      "image/png": "[encoded data removed]",
      "text/plain": [
       "<Figure size 432x288 with 3 Axes>"
      ]
     },
     "metadata": {
      "needs_background": "light"
     },
     "output_type": "display_data"
    },
    {
     "data": {
      "image/png": "[encoded data removed]",
      "text/plain": [
       "<Figure size 432x288 with 3 Axes>"
      ]
     },
     "metadata": {
      "needs_background": "light"
     },
     "output_type": "display_data"
    },
    {
     "data": {
      "image/png": "[encoded data removed]",
      "text/plain": [
       "<Figure size 432x288 with 3 Axes>"
      ]
     },
     "metadata": {
      "needs_background": "light"
     },
     "output_type": "display_data"
    },
    {
     "data": {
      "image/png": "[encoded data removed]",
      "text/plain": [
       "<Figure size 432x288 with 3 Axes>"
      ]
     },
     "metadata": {
      "needs_background": "light"
     },
     "output_type": "display_data"
    },
    {
     "data": {
      "image/png": "[encoded data removed]",
      "text/plain": [
       "<Figure size 432x288 with 3 Axes>"
      ]
     },
     "metadata": {
      "needs_background": "light"
     },
     "output_type": "display_data"
    },
    {
     "data": {
      "image/png": "[encoded data removed]",
      "text/plain": [
       "<Figure size 432x288 with 3 Axes>"
      ]
     },
     "metadata": {
      "needs_background": "light"
     },
     "output_type": "display_data"
    },
    {
     "data": {
      "image/png": "[encoded data removed]",
      "text/plain": [
       "<Figure size 432x288 with 3 Axes>"
      ]
     },
     "metadata": {
      "needs_background": "light"
     },
     "output_type": "display_data"
    },
    {
     "data": {
      "image/png": "[encoded data removed]",
      "text/plain": [
       "<Figure size 432x288 with 3 Axes>"
      ]
     },
     "metadata": {
      "needs_background": "light"
     },
     "output_type": "display_data"
    },
    {
     "data": {
      "image/png": "[encoded data removed]",
      "text/plain": [
       "<Figure size 432x288 with 3 Axes>"
      ]
     },
     "metadata": {
      "needs_background": "light"
     },
     "output_type": "display_data"
    }
   ],
   "source": [
    "for ix in range(len(x)):\n",
    "    plt.subplot(131)\n",
    "    plt.imshow(x[ix,0].detach().cpu(), cmap=\"gray\")\n",
    "    plt.title(f\"Label: {y[ix]}\")\n",
    "    plt.subplot(132)\n",
    "    plt.imshow(x_pert_l2[ix,0].detach().cpu(), cmap=\"gray\")\n",
    "    plt.title(f\"Predicted: {y_pert_l2[ix]}\")\n",
    "    \n",
    "    plt.subplot(133)\n",
    "    plt.imshow(x_pert_linf[ix,0].detach().cpu(), cmap=\"gray\")\n",
    "    plt.title(f\"Predicted: {y_pert_linf[ix]}\")\n",
    "    plt.show()"
   ]
  },
  {
   "cell_type": "markdown",
   "metadata": {},
   "source": [
    "### Quantitative evaluation\n",
    "Perturb each test sample and compare the clean and perturbed accuracies."
   ]
  },
  {
   "cell_type": "markdown",
   "metadata": {},
   "source": [
    "$L_2$ perturbations:"
   ]
  },
  {
   "cell_type": "code",
   "execution_count": 14,
   "metadata": {},
   "outputs": [
    {
     "data": {
      "application/vnd.jupyter.widget-view+json": {
       "model_id": "3b77f76347a142aeba5b353232d67865",
       "version_major": 2,
       "version_minor": 0
      },
      "text/plain": [
       "HBox(children=(FloatProgress(value=0.0, max=10.0), HTML(value='')))"
      ]
     },
     "metadata": {},
     "output_type": "display_data"
    },
    {
     "name": "stdout",
     "output_type": "stream",
     "text": [
      "\n"
     ]
    }
   ],
   "source": [
    "perturbed_accuracy_l2 = predict_model(model, mnist_testset, batch_size=test_batch_size, attack_function=fast_gradient_attack, attack_args=attack_args_l2)"
   ]
  },
  {
   "cell_type": "markdown",
   "metadata": {},
   "source": [
    "$L_\\infty$ perturbations:"
   ]
  },
  {
   "cell_type": "code",
   "execution_count": 15,
   "metadata": {},
   "outputs": [
    {
     "data": {
      "application/vnd.jupyter.widget-view+json": {
       "model_id": "3e66590ea87741229bed318d06af52da",
       "version_major": 2,
       "version_minor": 0
      },
      "text/plain": [
       "HBox(children=(FloatProgress(value=0.0, max=10.0), HTML(value='')))"
      ]
     },
     "metadata": {},
     "output_type": "display_data"
    },
    {
     "name": "stdout",
     "output_type": "stream",
     "text": [
      "\n"
     ]
    }
   ],
   "source": [
    "perturbed_accuracy_linf = predict_model(model, mnist_testset, batch_size=test_batch_size, attack_function=fast_gradient_attack, attack_args=attack_args_linf)"
   ]
  },
  {
   "cell_type": "markdown",
   "metadata": {},
   "source": [
    "Your values for `clean_accuracy` and `perturbed_accuracy` should roughly match the ones below, even though they will of course not be identical."
   ]
  },
  {
   "cell_type": "code",
   "execution_count": 16,
   "metadata": {},
   "outputs": [
    {
     "data": {
      "text/plain": [
       "0.9577999711036682"
      ]
     },
     "execution_count": 16,
     "metadata": {},
     "output_type": "execute_result"
    }
   ],
   "source": [
    "clean_accuracy"
   ]
  },
  {
   "cell_type": "code",
   "execution_count": 17,
   "metadata": {},
   "outputs": [
    {
     "data": {
      "text/plain": [
       "0.40939998626708984"
      ]
     },
     "execution_count": 17,
     "metadata": {},
     "output_type": "execute_result"
    }
   ],
   "source": [
    "perturbed_accuracy_l2"
   ]
  },
  {
   "cell_type": "code",
   "execution_count": 18,
   "metadata": {},
   "outputs": [
    {
     "data": {
      "text/plain": [
       "0.2621999979019165"
      ]
     },
     "execution_count": 18,
     "metadata": {},
     "output_type": "execute_result"
    }
   ],
   "source": [
    "perturbed_accuracy_linf"
   ]
  },
  {
   "cell_type": "markdown",
   "metadata": {},
   "source": [
    "#### In the remaining parts of this project we will be focusing on **$L_2$-based attacks only**."
   ]
  }
 ],
 "metadata": {
  "kernelspec": {
   "display_name": "Python 3",
   "language": "python",
   "name": "python3"
  },
  "language_info": {
   "codemirror_mode": {
    "name": "ipython",
    "version": 3
   },
   "file_extension": ".py",
   "mimetype": "text/x-python",
   "name": "python",
   "nbconvert_exporter": "python",
   "pygments_lexer": "ipython3",
   "version": "3.8.0"
  },
  "pycharm": {
   "stem_cell": {
    "cell_type": "raw",
    "metadata": {
     "collapsed": false
    },
    "source": []
   }
  }
 },
 "nbformat": 4,
 "nbformat_minor": 4
}
